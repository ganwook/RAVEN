{
 "cells": [
  {
   "cell_type": "code",
   "execution_count": 1,
   "metadata": {},
   "outputs": [],
   "source": [
    "import copy\n",
    "import os\n",
    "import random\n",
    "import sys"
   ]
  },
  {
   "cell_type": "code",
   "execution_count": 2,
   "metadata": {},
   "outputs": [],
   "source": [
    "import numpy as np\n",
    "from tqdm import trange"
   ]
  },
  {
   "cell_type": "code",
   "execution_count": 3,
   "metadata": {},
   "outputs": [],
   "source": [
    "import time"
   ]
  },
  {
   "cell_type": "code",
   "execution_count": 4,
   "metadata": {},
   "outputs": [],
   "source": [
    "from build_tree import (build_center_single, build_distribute_four,\n",
    "                        build_distribute_nine,\n",
    "                        build_in_center_single_out_center_single,\n",
    "                        build_in_distribute_four_out_center_single,\n",
    "                        build_left_center_single_right_center_single,\n",
    "                        build_up_center_single_down_center_single)\n",
    "from sampling import sample_attr, sample_attr_avail, sample_rules\n",
    "from Rule import Rule_Wrapper"
   ]
  },
  {
   "cell_type": "code",
   "execution_count": 5,
   "metadata": {},
   "outputs": [],
   "source": [
    "from rendering import render_panel"
   ]
  },
  {
   "cell_type": "markdown",
   "metadata": {},
   "source": [
    "## Description\n",
    "### 순서\n",
    "\n",
    "1. Tree 생성\n",
    "2. Define Rule\n",
    "\n",
    "Rule적용한 후 결과물 생성\n",
    "0. Rendering\n"
   ]
  },
  {
   "cell_type": "markdown",
   "metadata": {},
   "source": [
    "# 0. Rendering\n",
    " 미리 선언해둔 개체를 규칙에 맞게 numpy.array 위의 픽셀 파일로 변환해주는 과정\n",
    " \n",
    " 이후 np.array를 cv2.imshow() 를 활용해 새 창에서 프린트 한다 (Only in 로컬 환경)\n",
    " \n",
    " rendering.py 의 함수들을 보면 계층 별로 그릴수 있는 함수 존재"
   ]
  },
  {
   "cell_type": "code",
   "execution_count": 6,
   "metadata": {},
   "outputs": [],
   "source": [
    "import cv2"
   ]
  },
  {
   "cell_type": "code",
   "execution_count": 75,
   "metadata": {},
   "outputs": [],
   "source": [
    "img = render_panel(row_1_1)"
   ]
  },
  {
   "cell_type": "code",
   "execution_count": 76,
   "metadata": {},
   "outputs": [
    {
     "data": {
      "text/plain": [
       "-1"
      ]
     },
     "execution_count": 76,
     "metadata": {},
     "output_type": "execute_result"
    }
   ],
   "source": [
    "# turn on img with new window\n",
    "cv2.imshow('result', img)\n",
    "cv2.waitKey(1)"
   ]
  },
  {
   "cell_type": "code",
   "execution_count": 77,
   "metadata": {},
   "outputs": [],
   "source": [
    "img1 = render_panel(start_node)"
   ]
  },
  {
   "cell_type": "code",
   "execution_count": 78,
   "metadata": {},
   "outputs": [
    {
     "data": {
      "text/plain": [
       "-1"
      ]
     },
     "execution_count": 78,
     "metadata": {},
     "output_type": "execute_result"
    }
   ],
   "source": [
    "# turn on img with new window\n",
    "cv2.imshow('result1', img1)\n",
    "cv2.waitKey(1)"
   ]
  },
  {
   "cell_type": "code",
   "execution_count": 107,
   "metadata": {},
   "outputs": [],
   "source": [
    "# turn off all windows\n",
    "cv2.destroyAllWindows()"
   ]
  },
  {
   "cell_type": "markdown",
   "metadata": {},
   "source": [
    "# 1. Tree 생성"
   ]
  },
  {
   "cell_type": "code",
   "execution_count": 11,
   "metadata": {},
   "outputs": [],
   "source": [
    "class args():\n",
    "    pass"
   ]
  },
  {
   "cell_type": "code",
   "execution_count": 12,
   "metadata": {},
   "outputs": [],
   "source": [
    "args.num_samples = 5"
   ]
  },
  {
   "cell_type": "code",
   "execution_count": 13,
   "metadata": {},
   "outputs": [],
   "source": [
    "all_configs = {\"center_single\": build_center_single(),\n",
    "                   \"distribute_four\": build_distribute_four(),\n",
    "                   \"distribute_nine\": build_distribute_nine(),\n",
    "                   \"left_center_single_right_center_single\": build_left_center_single_right_center_single(),\n",
    "                   \"up_center_single_down_center_single\": build_up_center_single_down_center_single(),\n",
    "                   \"in_center_single_out_center_single\": build_in_center_single_out_center_single(),\n",
    "                   \"in_distribute_four_out_center_single\": build_in_distribute_four_out_center_single()}"
   ]
  },
  {
   "cell_type": "code",
   "execution_count": 14,
   "metadata": {},
   "outputs": [],
   "source": [
    "# for key in all_configs.keys():\n",
    "key = \"distribute_four\""
   ]
  },
  {
   "cell_type": "code",
   "execution_count": 15,
   "metadata": {},
   "outputs": [
    {
     "name": "stderr",
     "output_type": "stream",
     "text": [
      "100%|████████████████████████████████████████████████████████████████████████████████████████████| 5/5 [00:00<?, ?it/s]\n"
     ]
    }
   ],
   "source": [
    "for k in trange(args.num_samples):\n",
    "    cont_num = k % 10"
   ]
  },
  {
   "cell_type": "code",
   "execution_count": 16,
   "metadata": {},
   "outputs": [],
   "source": [
    "root = all_configs[key]"
   ]
  },
  {
   "cell_type": "markdown",
   "metadata": {},
   "source": [
    "선택한 config에 따라 적용가능한 Rule Group을 탐색한다\n",
    "\n",
    "Rule을 샘플한 이후 Root을 이에 따라 Pruning 해보고 불가능하다 판단하면 에러발생 => 재시도 몇번해보면 에러 없이 적합한 root과 rule 조합을 반환함"
   ]
  },
  {
   "cell_type": "code",
   "execution_count": 17,
   "metadata": {},
   "outputs": [],
   "source": [
    "while True:\n",
    "    rule_groups = sample_rules()\n",
    "    new_root = root.prune(rule_groups)\n",
    "    if new_root is not None:\n",
    "        break"
   ]
  },
  {
   "cell_type": "code",
   "execution_count": 18,
   "metadata": {},
   "outputs": [],
   "source": [
    "start_node = new_root.sample()"
   ]
  },
  {
   "cell_type": "markdown",
   "metadata": {},
   "source": [
    "# 계층구조 탐색\n",
    "각 계층의 하위구조를 .children을 활용해 호출가능하며 복수의 하위구조를 가졌을 경우 Numbering을 통해 호출\n",
    "\n",
    "대부분의 Operation은 Component 아래 계층 class의 attr를 바꾸는 형식으로 구현할 수 있을 것 같습니다\n",
    "\n",
    "## Entity attr 요약\n",
    "- .color : 해당 개체가 가질 color 값\n",
    "- .bbox : 해당 개체가 그려질 위치 표현 \n",
    "- .type : 해당 개체의 이름 (ex: 'triangle' )"
   ]
  },
  {
   "cell_type": "code",
   "execution_count": 19,
   "metadata": {},
   "outputs": [
    {
     "data": {
      "text/plain": [
       "[Entity.0, Entity.1, Entity.2]"
      ]
     },
     "execution_count": 19,
     "metadata": {},
     "output_type": "execute_result"
    }
   ],
   "source": [
    "row_1_1 = copy.deepcopy(start_node)\n",
    "row_1_1.children[0].children[0].children[0].children"
   ]
  },
  {
   "cell_type": "code",
   "execution_count": 52,
   "metadata": {},
   "outputs": [
    {
     "data": {
      "text/plain": [
       "Layout.Distribute_Four"
      ]
     },
     "execution_count": 52,
     "metadata": {},
     "output_type": "execute_result"
    }
   ],
   "source": [
    "second_layout = row_1_1.children[0].children[0].children[0]\n",
    "second_layout"
   ]
  },
  {
   "cell_type": "markdown",
   "metadata": {},
   "source": [
    "**두 개체의 위치 Swap**\n",
    "\n",
    "이거는 아직 함수 구현이 안 되어 있고 다음과 같은 형태로 간단히 구현할 수 있을 것 같다는걸 보이는 내용입니다\n"
   ]
  },
  {
   "cell_type": "code",
   "execution_count": 71,
   "metadata": {},
   "outputs": [],
   "source": [
    "second_layout.children[0].bbox, second_layout.children[1].bbox = second_layout.children[1].bbox, second_layout.children[0].bbox"
   ]
  },
  {
   "cell_type": "markdown",
   "metadata": {},
   "source": [
    "## 2. Define Rules\n",
    " 우리가 원하는 정확한 Rule을 만들기 위한 과정\n",
    "### Rule_Wrapper(name, attr, param, component_idx, entity_idxs)\n",
    "- name : Rule.py에 존재하는 클래스 중 하나 선택\n",
    "- attr : Rule이 변화시킬 대상 선택(Type / Size / Color)\n",
    "- param : 지정한 attr이 변화할 폭 선택 (list)\n",
    "- component_idx : 변화시킬 component 선택\n",
    "- entity_idxs : 해당 component에서 변화할 entity의 위치 선택"
   ]
  },
  {
   "cell_type": "code",
   "execution_count": 33,
   "metadata": {},
   "outputs": [],
   "source": [
    "rule = Rule_Wrapper(name = 'Progression_new', \n",
    "             attr = 'Size',\n",
    "             param = [1],\n",
    "             component_idx = 0,\n",
    "             entity_idxs = (1, 2))"
   ]
  },
  {
   "cell_type": "markdown",
   "metadata": {},
   "source": [
    "이후 rule class의 apply_rule 함수를 활용해 특정 대상에 적용시킨다\n",
    "\n",
    "이제 output을 Rendering 시키면 결과를 확인할 수 있음"
   ]
  },
  {
   "cell_type": "code",
   "execution_count": 35,
   "metadata": {},
   "outputs": [],
   "source": [
    "output = rule.apply_rule(row_1_1)."
   ]
  },
  {
   "cell_type": "markdown",
   "metadata": {},
   "source": [
    "## 2-1. Rule을 적용할 target 찾기 (필수아님)\n",
    "\n",
    "### set_target_with_condition(AoT, attr, value)\n",
    "- AoT : target을 찾을 AoT 노드 대상 입력\n",
    "- attr, value : 해당 attr의 value 값을 가진 Entuty의 idx를 반환한다\n",
    "- results = { 'component_idx' : [Entity_idxs ] } 형태"
   ]
  },
  {
   "cell_type": "code",
   "execution_count": 105,
   "metadata": {},
   "outputs": [],
   "source": [
    "def set_target_with_condition(AoT, attr, value):\n",
    "    results = {}\n",
    "    Components = AoT.children[0].children\n",
    "    for comp_idx, comp in enumerate(Components):\n",
    "        Entities = comp.children[0].children\n",
    "        entity_idxs = []\n",
    "        for enti_idx, enti in enumerate(Entities):\n",
    "            if attr == \"Type\":\n",
    "                if enti.type.get_value() == value:\n",
    "                    entity_idxs += [enti_idx]\n",
    "        results[comp_idx] = entity_idxs\n",
    "        \n",
    "    return results"
   ]
  },
  {
   "cell_type": "code",
   "execution_count": 106,
   "metadata": {},
   "outputs": [
    {
     "data": {
      "text/plain": [
       "{0: [1]}"
      ]
     },
     "execution_count": 106,
     "metadata": {},
     "output_type": "execute_result"
    }
   ],
   "source": [
    "set_target_with_condition(start_node, \"Type\", \"triangle\")"
   ]
  }
 ],
 "metadata": {
  "kernelspec": {
   "display_name": "Python 3",
   "language": "python",
   "name": "python3"
  },
  "language_info": {
   "codemirror_mode": {
    "name": "ipython",
    "version": 3
   },
   "file_extension": ".py",
   "mimetype": "text/x-python",
   "name": "python",
   "nbconvert_exporter": "python",
   "pygments_lexer": "ipython3",
   "version": "3.7.4"
  }
 },
 "nbformat": 4,
 "nbformat_minor": 4
}
