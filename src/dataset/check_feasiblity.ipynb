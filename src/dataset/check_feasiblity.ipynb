{
 "cells": [
  {
   "cell_type": "code",
   "execution_count": 1,
   "metadata": {},
   "outputs": [],
   "source": [
    "import copy\n",
    "import os\n",
    "import random\n",
    "import sys"
   ]
  },
  {
   "cell_type": "code",
   "execution_count": 2,
   "metadata": {},
   "outputs": [],
   "source": [
    "import numpy as np"
   ]
  },
  {
   "cell_type": "code",
   "execution_count": null,
   "metadata": {},
   "outputs": [],
   "source": []
  },
  {
   "cell_type": "code",
   "execution_count": 3,
   "metadata": {},
   "outputs": [],
   "source": [
    "## from RAVEN\n",
    "from build_tree import build_distribute_four\n",
    "from Rule import Rule_Wrapper"
   ]
  },
  {
   "cell_type": "code",
   "execution_count": 4,
   "metadata": {},
   "outputs": [],
   "source": [
    "from rendering import render_panel"
   ]
  },
  {
   "cell_type": "markdown",
   "metadata": {},
   "source": [
    "## Rendering"
   ]
  },
  {
   "cell_type": "code",
   "execution_count": 15,
   "metadata": {},
   "outputs": [],
   "source": [
    "import cv2"
   ]
  },
  {
   "cell_type": "code",
   "execution_count": 32,
   "metadata": {},
   "outputs": [],
   "source": [
    "img1 = render_panel(start_node)"
   ]
  },
  {
   "cell_type": "code",
   "execution_count": 33,
   "metadata": {},
   "outputs": [],
   "source": [
    "# turn on img with new window\n",
    "cv2.imshow('result1', img1)\n",
    "cv2.waitKey(1)\n",
    "cv2.moveWindow('result1', 0, 0)"
   ]
  },
  {
   "cell_type": "code",
   "execution_count": 45,
   "metadata": {},
   "outputs": [],
   "source": [
    "img = render_panel(output)"
   ]
  },
  {
   "cell_type": "code",
   "execution_count": 46,
   "metadata": {},
   "outputs": [],
   "source": [
    "# turn on img with new window\n",
    "cv2.imshow('result', img)\n",
    "cv2.waitKey(1)\n",
    "cv2.moveWindow('result', 200, 0)"
   ]
  },
  {
   "cell_type": "code",
   "execution_count": 47,
   "metadata": {},
   "outputs": [],
   "source": [
    "# turn off all windows\n",
    "cv2.destroyAllWindows()"
   ]
  },
  {
   "cell_type": "markdown",
   "metadata": {},
   "source": [
    "## Generate a rule and feasible scene"
   ]
  },
  {
   "cell_type": "code",
   "execution_count": 26,
   "metadata": {},
   "outputs": [],
   "source": [
    "## config = 2x2 grid\n",
    "root = build_distribute_four()"
   ]
  },
  {
   "cell_type": "code",
   "execution_count": 27,
   "metadata": {},
   "outputs": [],
   "source": [
    "## define a rule\n",
    "rule = Rule_Wrapper(name = 'Progression_new', \n",
    "             attr = 'Size',\n",
    "             param = [1],\n",
    "             component_idx = 0)"
   ]
  },
  {
   "cell_type": "code",
   "execution_count": 28,
   "metadata": {},
   "outputs": [],
   "source": [
    "rule_groups = [[rule]]"
   ]
  },
  {
   "cell_type": "code",
   "execution_count": 29,
   "metadata": {},
   "outputs": [],
   "source": [
    "## check the feasibility of the rule\n",
    "\n",
    "while True:\n",
    "    new_root = root.prune(rule_groups)\n",
    "    if new_root is not None:\n",
    "        break"
   ]
  },
  {
   "cell_type": "code",
   "execution_count": 30,
   "metadata": {},
   "outputs": [
    {
     "data": {
      "text/plain": [
       "Root.Scene"
      ]
     },
     "execution_count": 30,
     "metadata": {},
     "output_type": "execute_result"
    }
   ],
   "source": [
    "new_root"
   ]
  },
  {
   "cell_type": "code",
   "execution_count": 31,
   "metadata": {},
   "outputs": [],
   "source": [
    "start_node = new_root.sample()"
   ]
  },
  {
   "cell_type": "code",
   "execution_count": null,
   "metadata": {},
   "outputs": [],
   "source": []
  },
  {
   "cell_type": "code",
   "execution_count": null,
   "metadata": {},
   "outputs": [],
   "source": []
  },
  {
   "cell_type": "code",
   "execution_count": 34,
   "metadata": {},
   "outputs": [],
   "source": [
    "def set_target_with_condition(AoT, attr, value):\n",
    "    results = {}\n",
    "    Components = AoT.children[0].children\n",
    "    for comp_idx, comp in enumerate(Components):\n",
    "        Entities = comp.children[0].children\n",
    "        entity_idxs = []\n",
    "        for enti_idx, enti in enumerate(Entities):\n",
    "            if attr == \"Type\":\n",
    "                if enti.type.get_value() == value:\n",
    "                    entity_idxs += [enti_idx]\n",
    "        results[comp_idx] = entity_idxs\n",
    "        \n",
    "    return results"
   ]
  },
  {
   "cell_type": "code",
   "execution_count": 35,
   "metadata": {},
   "outputs": [
    {
     "data": {
      "text/plain": [
       "{0: [0, 3]}"
      ]
     },
     "execution_count": 35,
     "metadata": {},
     "output_type": "execute_result"
    }
   ],
   "source": [
    "target = set_target_with_condition(start_node, \"Type\", \"circle\")\n",
    "target"
   ]
  },
  {
   "cell_type": "code",
   "execution_count": 36,
   "metadata": {},
   "outputs": [],
   "source": [
    "## applying this rule\n",
    "rule = Rule_Wrapper(name = 'Progression_new', \n",
    "             attr = 'Size',\n",
    "             param = [-1],\n",
    "             component_idx = 0,\n",
    "             entity_idxs = target[0])"
   ]
  },
  {
   "cell_type": "code",
   "execution_count": 37,
   "metadata": {},
   "outputs": [],
   "source": [
    "row_1_1 = copy.deepcopy(start_node)"
   ]
  },
  {
   "cell_type": "code",
   "execution_count": 38,
   "metadata": {},
   "outputs": [],
   "source": [
    "output = rule.apply_rule(row_1_1)"
   ]
  },
  {
   "cell_type": "code",
   "execution_count": 39,
   "metadata": {},
   "outputs": [],
   "source": [
    "ents = start_node.children[0].children[0].children[0].children"
   ]
  },
  {
   "cell_type": "code",
   "execution_count": 42,
   "metadata": {},
   "outputs": [
    {
     "name": "stdout",
     "output_type": "stream",
     "text": [
      "triangle\n",
      "0.5\n",
      "112\n",
      "135\n"
     ]
    }
   ],
   "source": [
    "print(ents[1].type.values[ents[1].type.value_level])\n",
    "print(ents[1].size.values[ents[1].size.value_level])\n",
    "print(ents[1].color.values[ents[1].color.value_level])\n",
    "print(ents[1].angle.values[ents[1].angle.value_level])"
   ]
  },
  {
   "cell_type": "code",
   "execution_count": 43,
   "metadata": {},
   "outputs": [],
   "source": [
    "out_ents = output.children[0].children[0].children[0].children"
   ]
  },
  {
   "cell_type": "code",
   "execution_count": 44,
   "metadata": {},
   "outputs": [
    {
     "name": "stdout",
     "output_type": "stream",
     "text": [
      "triangle\n",
      "0.5\n",
      "112\n",
      "135\n"
     ]
    }
   ],
   "source": [
    "print(out_ents[1].type.values[out_ents[1].type.value_level])\n",
    "print(out_ents[1].size.values[out_ents[1].size.value_level])\n",
    "print(out_ents[1].color.values[out_ents[1].color.value_level])\n",
    "print(out_ents[1].angle.values[out_ents[1].angle.value_level])"
   ]
  },
  {
   "cell_type": "code",
   "execution_count": null,
   "metadata": {},
   "outputs": [],
   "source": []
  },
  {
   "cell_type": "code",
   "execution_count": null,
   "metadata": {},
   "outputs": [],
   "source": []
  }
 ],
 "metadata": {
  "kernelspec": {
   "display_name": "Python 3",
   "language": "python",
   "name": "python3"
  },
  "language_info": {
   "codemirror_mode": {
    "name": "ipython",
    "version": 3
   },
   "file_extension": ".py",
   "mimetype": "text/x-python",
   "name": "python",
   "nbconvert_exporter": "python",
   "pygments_lexer": "ipython3",
   "version": "3.7.4"
  }
 },
 "nbformat": 4,
 "nbformat_minor": 4
}
